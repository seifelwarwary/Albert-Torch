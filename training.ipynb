{
 "cells": [
  {
   "cell_type": "code",
   "execution_count": 1,
   "metadata": {},
   "outputs": [],
   "source": [
    "\n",
    "from model import *\n",
    "from preprocessing import *\n",
    "import torch.nn as nn\n",
    "import torch.nn.functional as F\n",
    "import torch\n",
    "import torch.optim as optim\n",
    "import lightning as L\n",
    "\n",
    "from math import floor\n",
    "import torch.optim.lr_scheduler  as lr_sc\n",
    "\n",
    "\n",
    "model=AlbertModel()\n"
   ]
  },
  {
   "cell_type": "code",
   "execution_count": null,
   "metadata": {},
   "outputs": [],
   "source": [
    "\n",
    "\n",
    "class ALBERT(L.LightningModule):\n",
    "    def __init__(self, model):\n",
    "        super().__init__()\n",
    "        self.model = model\n",
    "        self.loss_metrics=[]\n",
    "    def forward(self,x):\n",
    "      return self.model(x)\n",
    "\n",
    "\n",
    "    def training_step(self, batch):\n",
    "        \n",
    "        input_ids,attention_mask,token_type_ids=batch['input_ids'],batch['attention_mask'],batch['token_type_ids']\n",
    "\n",
    "        y_mlm=torch.where(batch['labels']==-100,batch['input_ids'],batch['labels'])\n",
    "        y_nsp=batch['label'].squeeze()\n",
    "        \n",
    "        y_hat_mlm,y_hat_nsp = self.model((input_ids,attention_mask,token_type_ids))\n",
    "\n",
    "        y_hat_mlm=y_hat_mlm.transpose(1,2)\n",
    "        \n",
    "        # print(y_hat_nsp,y_nsp)\n",
    "        # print(y_hat_mlm.shape,y_mlm.shape)\n",
    "        # print(y_hat_nsp.shape,y_nsp.shape)\n",
    "        # print(y_hat_mlm.dtype,y_mlm.dtype)\n",
    "        # print(y_hat_nsp.dtype,y_nsp.dtype)\n",
    "        loss_mlm = nn.functional.nll_loss( y_hat_mlm,y_mlm.squeeze(-1))\n",
    "        loss_nsp = nn.functional.nll_loss( y_hat_nsp,y_nsp)\n",
    "        lr=self.trainer.optimizers[0].param_groups[0]['lr']\n",
    "        print(f'step : {self.global_step}, lr = {lr}, NSP_loss = {loss_nsp}, MLM_loss = {loss_mlm}')\n",
    "\n",
    "        loss=loss_mlm+loss_nsp\n",
    "        self.loss_metrics.append((loss_mlm,loss_nsp))\n",
    "\n",
    "        return loss\n",
    "\n",
    "    def configure_optimizers(self):\n",
    "        optimizer = optim.AdamW(self.parameters(), lr=6e-5)\n",
    "        lr_scheduler = lr_sc.ExponentialLR(optimizer,0.5,total_iters=4)\n",
    "        return [optimizer],[{\"scheduler\": lr_scheduler, \"interval\": \"step\"}]\n",
    "    \n",
    "    def lr_scheduler_step(self, scheduler, metric):\n",
    "      scheduler.step(epoch=floor(self.global_step/200))  # timm's scheduler need the epoch value    \n",
    "    \n",
    "    def predict_step(self, batch ):\n",
    "        \n",
    "        input_ids,attention_mask,token_type_ids=batch['input_ids'],batch['attention_mask'],batch['token_type_ids']\n",
    "        \n",
    "        model=self.model.to('cuda')\n",
    "        y_hat_mlm,y_hat_nsp=model((input_ids,attention_mask,token_type_ids))\n",
    "        \n",
    "        y_hat_mlm=y_hat_mlm.argmax(-1)\n",
    "        y_hat_nsp=y_hat_nsp.argmax(-1)\n",
    "        \n",
    "        return y_hat_mlm,y_hat_nsp\n",
    "\n",
    "\n",
    "\n",
    "\n",
    "albert = ALBERT(model)\n",
    "trainer = L.Trainer(limit_train_batches=1000, max_epochs=1)\n",
    "trainer.fit(model=albert, train_dataloaders=text_dataloader);\n"
   ]
  },
  {
   "cell_type": "code",
   "execution_count": null,
   "metadata": {},
   "outputs": [],
   "source": [
    "import matplotlib.pyplot as plt\n",
    "losses=[(x.detach().cpu().numpy(),y.detach().cpu().numpy()) for x,y in albert.loss_metrics]\n",
    "plt.plot(losses)\n"
   ]
  },
  {
   "cell_type": "code",
   "execution_count": null,
   "metadata": {},
   "outputs": [],
   "source": [
    "data=(next(iter(text_dataloader))).to('cuda')\n",
    "output=trainer.model.predict_step(data)\n",
    "(data['label'].squeeze()==output[1]).sum()\n",
    "(data['label'].squeeze(),output[1])"
   ]
  },
  {
   "cell_type": "code",
   "execution_count": null,
   "metadata": {},
   "outputs": [],
   "source": [
    "tokenizer.convert_ids_to_tokens(output[0][0])[:20]"
   ]
  }
 ],
 "metadata": {
  "kernelspec": {
   "display_name": "ml",
   "language": "python",
   "name": "python3"
  },
  "language_info": {
   "codemirror_mode": {
    "name": "ipython",
    "version": 3
   },
   "file_extension": ".py",
   "mimetype": "text/x-python",
   "name": "python",
   "nbconvert_exporter": "python",
   "pygments_lexer": "ipython3",
   "version": "3.11.7"
  }
 },
 "nbformat": 4,
 "nbformat_minor": 2
}
